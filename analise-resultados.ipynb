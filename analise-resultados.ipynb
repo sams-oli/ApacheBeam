import pandas as pd

arquivo = 'resultado-00000-of-00001.csv'
data_frame = pd.read_csv(arquivo, delimiter = ';')

data_frame.shape()
data_frame.head()

data_frame.groupby(['UF', 'ANO'])[['DENGUE', 'CHUVA']].mean()
